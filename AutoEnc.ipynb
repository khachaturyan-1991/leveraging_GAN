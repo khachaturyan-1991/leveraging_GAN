{
 "cells": [
  {
   "cell_type": "markdown",
   "id": "87aa8037-b5f1-4aa8-b4f9-706660ed2cb5",
   "metadata": {},
   "source": [
    "# Libs"
   ]
  },
  {
   "cell_type": "code",
   "execution_count": 16,
   "id": "528184ce-7890-451a-b284-26ebb8608450",
   "metadata": {},
   "outputs": [],
   "source": [
    "from __future__ import division\n",
    "\n",
    "import torch\n",
    "import torchvision\n",
    "from torchvision import models\n",
    "import torch.nn as nn\n",
    "from torchvision import models\n",
    "from torchvision import transforms\n",
    "from tensorflow.python.ops.numpy_ops import np_config\n",
    "np_config.enable_numpy_behavior()\n",
    "\n",
    "import PIL\n",
    "import PIL.Image as Image\n",
    "import cv2\n",
    "\n",
    "import tensorflow as tf\n",
    "from tensorflow import keras\n",
    "import keras.backend as K\n",
    "\n",
    "import numpy as np\n",
    "import matplotlib.pyplot as plt"
   ]
  },
  {
   "cell_type": "code",
   "execution_count": 2,
   "id": "01c0da76-79a4-4744-94fc-8016372a681b",
   "metadata": {},
   "outputs": [],
   "source": [
    "device = torch.device(\"cuda\" if torch.cuda.is_available() else \"cpu\")\n",
    "imsize = 512 if torch.cuda.is_available() else 128"
   ]
  },
  {
   "cell_type": "markdown",
   "id": "6d8c1ade-2e99-44b9-a978-d696392e7911",
   "metadata": {},
   "source": [
    "# PyTorch"
   ]
  },
  {
   "cell_type": "code",
   "execution_count": 3,
   "id": "974b42c8-f82a-42d4-b3b5-53dc533e996f",
   "metadata": {
    "collapsed": true,
    "jupyter": {
     "outputs_hidden": true
    },
    "tags": []
   },
   "outputs": [
    {
     "name": "stderr",
     "output_type": "stream",
     "text": [
      "/Users/dr.rub/opt/anaconda3/envs/gig/lib/python3.10/site-packages/torchvision/models/_utils.py:208: UserWarning: The parameter 'pretrained' is deprecated since 0.13 and will be removed in 0.15, please use 'weights' instead.\n",
      "  warnings.warn(\n",
      "/Users/dr.rub/opt/anaconda3/envs/gig/lib/python3.10/site-packages/torchvision/models/_utils.py:223: UserWarning: Arguments other than a weight enum or `None` for 'weights' are deprecated since 0.13 and will be removed in 0.15. The current behavior is equivalent to passing `weights=VGG19_Weights.IMAGENET1K_V1`. You can also use `weights=VGG19_Weights.DEFAULT` to get the most up-to-date weights.\n",
      "  warnings.warn(msg)\n"
     ]
    },
    {
     "data": {
      "text/plain": [
       "VGG(\n",
       "  (features): Sequential(\n",
       "    (0): Conv2d(3, 64, kernel_size=(3, 3), stride=(1, 1), padding=(1, 1))\n",
       "    (1): ReLU(inplace=True)\n",
       "    (2): Conv2d(64, 64, kernel_size=(3, 3), stride=(1, 1), padding=(1, 1))\n",
       "    (3): ReLU(inplace=True)\n",
       "    (4): MaxPool2d(kernel_size=2, stride=2, padding=0, dilation=1, ceil_mode=False)\n",
       "    (5): Conv2d(64, 128, kernel_size=(3, 3), stride=(1, 1), padding=(1, 1))\n",
       "    (6): ReLU(inplace=True)\n",
       "    (7): Conv2d(128, 128, kernel_size=(3, 3), stride=(1, 1), padding=(1, 1))\n",
       "    (8): ReLU(inplace=True)\n",
       "    (9): MaxPool2d(kernel_size=2, stride=2, padding=0, dilation=1, ceil_mode=False)\n",
       "    (10): Conv2d(128, 256, kernel_size=(3, 3), stride=(1, 1), padding=(1, 1))\n",
       "    (11): ReLU(inplace=True)\n",
       "    (12): Conv2d(256, 256, kernel_size=(3, 3), stride=(1, 1), padding=(1, 1))\n",
       "    (13): ReLU(inplace=True)\n",
       "    (14): Conv2d(256, 256, kernel_size=(3, 3), stride=(1, 1), padding=(1, 1))\n",
       "    (15): ReLU(inplace=True)\n",
       "    (16): Conv2d(256, 256, kernel_size=(3, 3), stride=(1, 1), padding=(1, 1))\n",
       "    (17): ReLU(inplace=True)\n",
       "    (18): MaxPool2d(kernel_size=2, stride=2, padding=0, dilation=1, ceil_mode=False)\n",
       "    (19): Conv2d(256, 512, kernel_size=(3, 3), stride=(1, 1), padding=(1, 1))\n",
       "    (20): ReLU(inplace=True)\n",
       "    (21): Conv2d(512, 512, kernel_size=(3, 3), stride=(1, 1), padding=(1, 1))\n",
       "    (22): ReLU(inplace=True)\n",
       "    (23): Conv2d(512, 512, kernel_size=(3, 3), stride=(1, 1), padding=(1, 1))\n",
       "    (24): ReLU(inplace=True)\n",
       "    (25): Conv2d(512, 512, kernel_size=(3, 3), stride=(1, 1), padding=(1, 1))\n",
       "    (26): ReLU(inplace=True)\n",
       "    (27): MaxPool2d(kernel_size=2, stride=2, padding=0, dilation=1, ceil_mode=False)\n",
       "    (28): Conv2d(512, 512, kernel_size=(3, 3), stride=(1, 1), padding=(1, 1))\n",
       "    (29): ReLU(inplace=True)\n",
       "    (30): Conv2d(512, 512, kernel_size=(3, 3), stride=(1, 1), padding=(1, 1))\n",
       "    (31): ReLU(inplace=True)\n",
       "    (32): Conv2d(512, 512, kernel_size=(3, 3), stride=(1, 1), padding=(1, 1))\n",
       "    (33): ReLU(inplace=True)\n",
       "    (34): Conv2d(512, 512, kernel_size=(3, 3), stride=(1, 1), padding=(1, 1))\n",
       "    (35): ReLU(inplace=True)\n",
       "    (36): MaxPool2d(kernel_size=2, stride=2, padding=0, dilation=1, ceil_mode=False)\n",
       "  )\n",
       "  (avgpool): AdaptiveAvgPool2d(output_size=(7, 7))\n",
       "  (classifier): Sequential(\n",
       "    (0): Linear(in_features=25088, out_features=4096, bias=True)\n",
       "    (1): ReLU(inplace=True)\n",
       "    (2): Dropout(p=0.5, inplace=False)\n",
       "    (3): Linear(in_features=4096, out_features=4096, bias=True)\n",
       "    (4): ReLU(inplace=True)\n",
       "    (5): Dropout(p=0.5, inplace=False)\n",
       "    (6): Linear(in_features=4096, out_features=1000, bias=True)\n",
       "  )\n",
       ")"
      ]
     },
     "execution_count": 3,
     "metadata": {},
     "output_type": "execute_result"
    }
   ],
   "source": [
    "model = models.vgg19(pretrained=True)\n",
    "model"
   ]
  },
  {
   "cell_type": "code",
   "execution_count": 26,
   "id": "705b9993-c486-42f3-9138-d897c7f2c418",
   "metadata": {},
   "outputs": [],
   "source": [
    "class VGGNet(nn.Module):\n",
    "    def __init__(self):\n",
    "        super(VGGNet, self).__init__()\n",
    "        self.select = ['0', '5', '10', '19', '28']\n",
    "        self.vgg = models.vgg19(pretrained=True).features\n",
    "        \n",
    "    def forward(self, x):\n",
    "        \"\"\"Extract multiple convolutional feature maps.\"\"\"\n",
    "        features = []\n",
    "        for name, layer in self.vgg._modules.items():\n",
    "            x = layer(x)\n",
    "            if name in self.select:\n",
    "                features.append(x)\n",
    "        return features"
   ]
  },
  {
   "cell_type": "code",
   "execution_count": 27,
   "id": "8d081471-825e-4b86-8d28-8ebc0f85489a",
   "metadata": {},
   "outputs": [],
   "source": [
    "def load_image(image, transform=None, max_size=None, shape=None):\n",
    "    try:\n",
    "        image = Image.fromarray(np.uint8(image)).convert('RGB')\n",
    "    except:\n",
    "        image = Image.open(image)\n",
    "    if max_size:\n",
    "        scale_x = max_size/image.size[0]\n",
    "        scale_y = max_size/image.size[1]\n",
    "        size = np.array(image.size)*np.array([scale_x, scale_y])\n",
    "        image = image.resize(size.astype(int), Image.LANCZOS)\n",
    "    \n",
    "    if shape:\n",
    "        image = image.resize(shape, Image.LANCZOS)\n",
    "    \n",
    "    if transform:\n",
    "        image = transform(image).unsqueeze(0)\n",
    "    \n",
    "    return image"
   ]
  },
  {
   "cell_type": "code",
   "execution_count": 28,
   "id": "b828c6de-05dc-498d-8bf9-5a1b2c8e7493",
   "metadata": {},
   "outputs": [],
   "source": [
    "transform = transforms.Compose([transforms.ToTensor(),\n",
    "                                transforms.Normalize(mean=(0.485, 0.456, 0.406),\n",
    "                                                     std=(0.229, 0.224, 0.225))])\n",
    "\n",
    "content = cv2.imread('./input_img/dancing.jpg')\n",
    "content = load_image(content, transform, imsize)\n",
    "style = load_image('./input_img/saryan.jpg', transform, shape=[content.size(3), content.size(2)])\n",
    "target = torch.randn(content.data.size()).requires_grad_()"
   ]
  },
  {
   "cell_type": "code",
   "execution_count": 139,
   "id": "7d57ea03-9285-4df4-bda1-0a3bbb371ba2",
   "metadata": {},
   "outputs": [],
   "source": [
    "def get_input_optimizer(x, r):\n",
    "    optimizer = torch.optim.SGD([x], lr=r)\n",
    "    return optimizer"
   ]
  },
  {
   "cell_type": "code",
   "execution_count": null,
   "id": "3550f33b-1ba6-4fb4-9bc2-526010059029",
   "metadata": {},
   "outputs": [],
   "source": [
    "leanring_rate = 0.002\n",
    "optimizer = torch.optim.Adam([target], lr=leanring_rate, betas=[0.5, 0.999])\n",
    "\n",
    "optimizer.zero_grad()\n",
    "vgg_c = VGGNet().to(device).eval()\n",
    "vgg_s = VGGNet().to(device).eval()\n",
    "vgg_t = VGGNet().to(device)\n",
    "\n",
    "style_weight = 0.5\n",
    "sample_step, log_step = 500, 200\n",
    "\n",
    "epoches = 20000\n",
    "\n",
    "for epoch in range(epoches):\n",
    "    content_features = vgg_c(content)\n",
    "    style_features = vgg_s(style)\n",
    "    target_features = vgg_t(target)\n",
    "    \n",
    "    style_loss = 0\n",
    "    content_loss = 0\n",
    "    \n",
    "    for f1,f2,f3 in zip(target_features, content_features, style_features):\n",
    "        \n",
    "        content_loss += torch.mean((f1-f2)**2) # why lost is not Crossentropy?????\n",
    "\n",
    "        _, c, h, w = f1.size()\n",
    "        f1 = f1.view(c, h * w)\n",
    "        f3 = f3.view(c, h * w)\n",
    "        f1 = torch.mm(f1, f1.t())\n",
    "        f3 = torch.mm(f3, f3.t())\n",
    "        style_loss += torch.mean((f1 - f3)**2) / (c * h * w)\n",
    "\n",
    "    loss = content_loss + style_weight * style_loss \n",
    "    optimizer.zero_grad()\n",
    "    loss.backward()\n",
    "    optimizer.step()\n",
    "    \n",
    "    if epoch % log_step == 0:\n",
    "        print ('Step [{}/{}], Content Loss: {:.4f}, Style Loss: {:.4f}' \n",
    "               .format(epoch+1,epoches+1, content_loss.item(), style_loss.item()))\n",
    "    \n",
    "    if epoch % sample_step == 0:\n",
    "        denorm = transforms.Normalize((-2.12, -2.04, -1.80), (4.37, 4.46, 4.44))\n",
    "        img = target.clone().squeeze()\n",
    "        img = denorm(img).clamp_(0, 1)\n",
    "        torchvision.utils.save_image(img, f'./input_img/res/output-{epoch+1}.png')"
   ]
  },
  {
   "cell_type": "markdown",
   "id": "fdffa218-3d50-454d-b0c7-56e02d061c4b",
   "metadata": {},
   "source": [
    "# TensorFlow"
   ]
  },
  {
   "cell_type": "code",
   "execution_count": 2,
   "id": "32c0ad53-8a13-4744-810b-491dfdc7b6dd",
   "metadata": {},
   "outputs": [],
   "source": [
    "def get_img(path):\n",
    "    img = PIL.Image.open(path)\n",
    "    img = img.resize((32, 32))\n",
    "    img_array = np.array(img)\n",
    "    img_array = img_array / 255.0\n",
    "    return tf.convert_to_tensor(img_array)"
   ]
  },
  {
   "cell_type": "code",
   "execution_count": 3,
   "id": "0ea07c3e-942a-4f4f-bdd9-ac33d1bc52c4",
   "metadata": {
    "tags": []
   },
   "outputs": [
    {
     "name": "stderr",
     "output_type": "stream",
     "text": [
      "2023-04-18 13:30:16.910012: I tensorflow/core/platform/cpu_feature_guard.cc:193] This TensorFlow binary is optimized with oneAPI Deep Neural Network Library (oneDNN) to use the following CPU instructions in performance-critical operations:  SSE4.1 SSE4.2\n",
      "To enable them in other operations, rebuild TensorFlow with the appropriate compiler flags.\n"
     ]
    }
   ],
   "source": [
    "content_img = get_img('input_img/dancing.jpg')\n",
    "content_img = tf.reshape(content_img, [1,32,32,3])\n",
    "style_img = get_img('input_img/saryan.jpg')\n",
    "style_img = tf.reshape(style_img, [1,32,32,3])\n",
    "target_img = 0.5*(content_img+style_img)"
   ]
  },
  {
   "cell_type": "code",
   "execution_count": 4,
   "id": "22a73a8c-f04d-4489-a6ee-6ad33d084287",
   "metadata": {
    "tags": []
   },
   "outputs": [
    {
     "data": {
      "text/plain": [
       "[<keras.engine.input_layer.InputLayer at 0x7fc931184d30>,\n",
       " <keras.layers.convolutional.conv2d.Conv2D at 0x7fc934b2cf70>,\n",
       " <keras.layers.convolutional.conv2d.Conv2D at 0x7fc934a9ec20>,\n",
       " <keras.layers.convolutional.conv2d.Conv2D at 0x7fc934b2c9d0>,\n",
       " <keras.layers.convolutional.conv2d.Conv2D at 0x7fc934b2eec0>,\n",
       " <keras.layers.convolutional.conv2d.Conv2D at 0x7fc934b2f880>,\n",
       " <keras.layers.convolutional.conv2d.Conv2D at 0x7fc9109f8c40>,\n",
       " <keras.layers.convolutional.conv2d.Conv2D at 0x7fc9109f9600>,\n",
       " <keras.layers.convolutional.conv2d.Conv2D at 0x7fc9109fa560>,\n",
       " <keras.layers.convolutional.conv2d.Conv2D at 0x7fc9109fb910>,\n",
       " <keras.layers.convolutional.conv2d.Conv2D at 0x7fc9109fbe80>,\n",
       " <keras.layers.convolutional.conv2d.Conv2D at 0x7fc9109fb610>,\n",
       " <keras.layers.convolutional.conv2d.Conv2D at 0x7fc9109f8850>,\n",
       " <keras.layers.convolutional.conv2d.Conv2D at 0x7fc910a167a0>]"
      ]
     },
     "execution_count": 4,
     "metadata": {},
     "output_type": "execute_result"
    }
   ],
   "source": [
    "base_model = keras.applications.vgg16.VGG16(\n",
    "    weights='imagenet',\n",
    "    input_shape=(32,32,3),\n",
    "    include_top=False\n",
    ")\n",
    "\n",
    "vgg_layers = []\n",
    "vgg_layers.append(base_model.layers[0])\n",
    "for layer in base_model.layers:\n",
    "    if \"conv\" in layer.name:\n",
    "        layer.trainable = False\n",
    "        vgg_layers.append(layer)\n",
    "\n",
    "vgg_layers"
   ]
  },
  {
   "cell_type": "code",
   "execution_count": 5,
   "id": "3dc4f4a8-fe17-4b32-93cd-95bc62de7a18",
   "metadata": {},
   "outputs": [],
   "source": [
    "def VGG_Net(layers):\n",
    "    \n",
    "    model = keras.models.Sequential()\n",
    "    for layer in layers[:6]:\n",
    "        layer.trainable = True\n",
    "        model.add(layer)\n",
    "    \n",
    "    return model"
   ]
  },
  {
   "cell_type": "code",
   "execution_count": 6,
   "id": "6c61ab9f-3df7-4772-a415-05af29e1383d",
   "metadata": {
    "tags": []
   },
   "outputs": [
    {
     "name": "stdout",
     "output_type": "stream",
     "text": [
      "Model: \"sequential\"\n",
      "_________________________________________________________________\n",
      " Layer (type)                Output Shape              Param #   \n",
      "=================================================================\n",
      " block1_conv1 (Conv2D)       (None, 32, 32, 64)        1792      \n",
      "                                                                 \n",
      " block1_conv2 (Conv2D)       (None, 32, 32, 64)        36928     \n",
      "                                                                 \n",
      " block2_conv1 (Conv2D)       multiple                  73856     \n",
      "                                                                 \n",
      " block2_conv2 (Conv2D)       multiple                  147584    \n",
      "                                                                 \n",
      " block3_conv1 (Conv2D)       multiple                  295168    \n",
      "                                                                 \n",
      "=================================================================\n",
      "Total params: 555,328\n",
      "Trainable params: 555,328\n",
      "Non-trainable params: 0\n",
      "_________________________________________________________________\n"
     ]
    }
   ],
   "source": [
    "model = VGG_Net(vgg_layers)\n",
    "model.summary()"
   ]
  },
  {
   "cell_type": "code",
   "execution_count": 7,
   "id": "7c9a8e76-3abf-4e3f-b2e5-f48919e9b30c",
   "metadata": {},
   "outputs": [],
   "source": [
    "vgg_c = VGG_Net(vgg_layers)\n",
    "vgg_s = VGG_Net(vgg_layers)\n",
    "vgg_t = VGG_Net(vgg_layers)"
   ]
  },
  {
   "cell_type": "code",
   "execution_count": 8,
   "id": "caa113db-e549-4016-ae4c-695bbd9cda06",
   "metadata": {},
   "outputs": [],
   "source": [
    "optimizer = keras.optimizers.Adam(learning_rate=0.0001)\n",
    "b_loss = keras.losses.BinaryCrossentropy()"
   ]
  },
  {
   "cell_type": "code",
   "execution_count": 9,
   "id": "92516fbb-57b2-4038-85b5-6d4b45f772d2",
   "metadata": {},
   "outputs": [],
   "source": [
    "vgg_t.compile(loss=b_loss, optimizer=optimizer)"
   ]
  },
  {
   "cell_type": "code",
   "execution_count": 21,
   "id": "25d0f3f2-bd55-4961-b238-b851e1317ab4",
   "metadata": {},
   "outputs": [
    {
     "name": "stdout",
     "output_type": "stream",
     "text": [
      "tf.Tensor(2433.4802, shape=(), dtype=float32)\n"
     ]
    }
   ],
   "source": [
    "epochs = 100\n",
    "\n",
    "target0 = vgg_t(target_img)\n",
    "\n",
    "loss_collection= []\n",
    "for epoch in range(epochs):\n",
    "\n",
    "    target = vgg_t(target_img)\n",
    "\n",
    "    loss, loss_c, loss_s = 0, 0, 0\n",
    "\n",
    "    cont_l = content_img\n",
    "    style_l = style_img\n",
    "    target_l = target_img\n",
    "\n",
    "    with tf.GradientTape() as g_tape:\n",
    "        for n,layer in enumerate(vgg_t.layers):\n",
    "\n",
    "            cont_l = vgg_c.layers[n](cont_l)\n",
    "            target_l = vgg_t.layers[n](target_l)\n",
    "\n",
    "            loss_c += tf.norm(cont_l-target_l)\n",
    "            \n",
    "            style_l = vgg_s.layers[n](style_l)\n",
    "            _, c, h, w = style_l.shape\n",
    "            style_l_t = style_l.reshape(c, h * w)\n",
    "            target_l_t = target_l.reshape(c, h * w)\n",
    "            \n",
    "            loss_s += tf.norm(style_l_t-target_l_t)\n",
    "\n",
    "    loss = loss_c\n",
    "    grad = g_tape.gradient(loss, vgg_t.trainable_variables)\n",
    "    optimizer.apply_gradients(zip(grad, vgg_t.trainable_variables))\n",
    "    loss_collection.append(loss)\n",
    "\n",
    "target1 = vgg_t(target_img)\n",
    "print(tf.norm(target1-target0))"
   ]
  },
  {
   "cell_type": "code",
   "execution_count": 22,
   "id": "dce72926-60d3-4125-a76d-e7dfd9a2cff1",
   "metadata": {},
   "outputs": [
    {
     "data": {
      "text/plain": [
       "Text(0, 0.5, 'Loss')"
      ]
     },
     "execution_count": 22,
     "metadata": {},
     "output_type": "execute_result"
    },
    {
     "data": {
      "image/png": "[encoded data removed]",
      "text/plain": [
       "<Figure size 432x288 with 1 Axes>"
      ]
     },
     "metadata": {
      "needs_background": "light"
     },
     "output_type": "display_data"
    }
   ],
   "source": [
    "plt.plot(loss_collection)\n",
    "plt.ylabel(\"Loss\")"
   ]
  }
 ],
 "metadata": {
  "kernelspec": {
   "display_name": "gig",
   "language": "python",
   "name": "gig"
  },
  "language_info": {
   "codemirror_mode": {
    "name": "ipython",
    "version": 3
   },
   "file_extension": ".py",
   "mimetype": "text/x-python",
   "name": "python",
   "nbconvert_exporter": "python",
   "pygments_lexer": "ipython3",
   "version": "3.10.10"
  }
 },
 "nbformat": 4,
 "nbformat_minor": 5
}
